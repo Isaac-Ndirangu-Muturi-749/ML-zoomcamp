{
 "cells": [
  {
   "cell_type": "markdown",
   "id": "eb861cbf",
   "metadata": {},
   "source": [
    "# ml zoomcamp\n",
    "## week 6 homework\n",
    "## Topic: Decision trees and Ensemble Learnning\n",
    "### name: Isaac Muturi\n",
    "### email: ndirangumuturi749@gmail.com"
   ]
  },
  {
   "cell_type": "markdown",
   "id": "83c10292",
   "metadata": {},
   "source": [
    "### Dataset\n",
    "\n",
    "In this homework, we will use the California Housing Prices from [Kaggle](https://www.kaggle.com/datasets/camnugent/california-housing-prices).\n",
    "\n",
    "Here's a wget-able [link](https://raw.githubusercontent.com/alexeygrigorev/datasets/master/housing.csv):\n",
    "\n",
    "```bash\n",
    "wget https://raw.githubusercontent.com/alexeygrigorev/datasets/master/housing.csv\n",
    "```\n",
    "\n",
    "The goal of this homework is to create a regression model for predicting housing prices (column `'median_house_value'`).\n"
   ]
  },
  {
   "cell_type": "code",
   "execution_count": 1,
   "id": "3f8c5534",
   "metadata": {},
   "outputs": [
    {
     "name": "stdout",
     "output_type": "stream",
     "text": [
      "100% [..........................................................................] 1423529 / 1423529"
     ]
    },
    {
     "data": {
      "text/plain": [
       "'housing.csv'"
      ]
     },
     "execution_count": 1,
     "metadata": {},
     "output_type": "execute_result"
    }
   ],
   "source": [
    "import wget\n",
    "\n",
    "url = 'https://raw.githubusercontent.com/alexeygrigorev/datasets/master/housing.csv'\n",
    "\n",
    "filename = 'housing.csv'\n",
    "\n",
    "wget.download(url, filename)"
   ]
  },
  {
   "cell_type": "markdown",
   "id": "a5cc6cef",
   "metadata": {},
   "source": [
    "### Preparing the dataset \n",
    "\n",
    "For this homework, we only want to use a subset of data. This is the same subset we used in homework #2.\n",
    "But in contrast to homework #2, we are going to use all columns of the dataset.\n",
    "\n",
    "First, keep only the records where `ocean_proximity` is either `'<1H OCEAN'` or `'INLAND'`\n",
    "\n",
    "Preparation:\n",
    "\n",
    "* Fill missing values with zeros.\n",
    "* Apply the log transform to `median_house_value`.\n",
    "* Do train/validation/test split with 60%/20%/20% distribution. \n",
    "* Use the `train_test_split` function and set the `random_state` parameter to 1.\n",
    "* Use `DictVectorizer(sparse=True)` to turn the dataframes into matrices.\n"
   ]
  },
  {
   "cell_type": "code",
   "execution_count": 9,
   "id": "daf38e8e",
   "metadata": {},
   "outputs": [
    {
     "data": {
      "text/html": [
       "<div>\n",
       "<style scoped>\n",
       "    .dataframe tbody tr th:only-of-type {\n",
       "        vertical-align: middle;\n",
       "    }\n",
       "\n",
       "    .dataframe tbody tr th {\n",
       "        vertical-align: top;\n",
       "    }\n",
       "\n",
       "    .dataframe thead th {\n",
       "        text-align: right;\n",
       "    }\n",
       "</style>\n",
       "<table border=\"1\" class=\"dataframe\">\n",
       "  <thead>\n",
       "    <tr style=\"text-align: right;\">\n",
       "      <th></th>\n",
       "      <th>longitude</th>\n",
       "      <th>latitude</th>\n",
       "      <th>housing_median_age</th>\n",
       "      <th>total_rooms</th>\n",
       "      <th>total_bedrooms</th>\n",
       "      <th>population</th>\n",
       "      <th>households</th>\n",
       "      <th>median_income</th>\n",
       "      <th>median_house_value</th>\n",
       "      <th>ocean_proximity</th>\n",
       "    </tr>\n",
       "  </thead>\n",
       "  <tbody>\n",
       "    <tr>\n",
       "      <th>0</th>\n",
       "      <td>-122.23</td>\n",
       "      <td>37.88</td>\n",
       "      <td>41.0</td>\n",
       "      <td>880.0</td>\n",
       "      <td>129.0</td>\n",
       "      <td>322.0</td>\n",
       "      <td>126.0</td>\n",
       "      <td>8.3252</td>\n",
       "      <td>452600.0</td>\n",
       "      <td>NEAR BAY</td>\n",
       "    </tr>\n",
       "    <tr>\n",
       "      <th>1</th>\n",
       "      <td>-122.22</td>\n",
       "      <td>37.86</td>\n",
       "      <td>21.0</td>\n",
       "      <td>7099.0</td>\n",
       "      <td>1106.0</td>\n",
       "      <td>2401.0</td>\n",
       "      <td>1138.0</td>\n",
       "      <td>8.3014</td>\n",
       "      <td>358500.0</td>\n",
       "      <td>NEAR BAY</td>\n",
       "    </tr>\n",
       "    <tr>\n",
       "      <th>2</th>\n",
       "      <td>-122.24</td>\n",
       "      <td>37.85</td>\n",
       "      <td>52.0</td>\n",
       "      <td>1467.0</td>\n",
       "      <td>190.0</td>\n",
       "      <td>496.0</td>\n",
       "      <td>177.0</td>\n",
       "      <td>7.2574</td>\n",
       "      <td>352100.0</td>\n",
       "      <td>NEAR BAY</td>\n",
       "    </tr>\n",
       "    <tr>\n",
       "      <th>3</th>\n",
       "      <td>-122.25</td>\n",
       "      <td>37.85</td>\n",
       "      <td>52.0</td>\n",
       "      <td>1274.0</td>\n",
       "      <td>235.0</td>\n",
       "      <td>558.0</td>\n",
       "      <td>219.0</td>\n",
       "      <td>5.6431</td>\n",
       "      <td>341300.0</td>\n",
       "      <td>NEAR BAY</td>\n",
       "    </tr>\n",
       "    <tr>\n",
       "      <th>4</th>\n",
       "      <td>-122.25</td>\n",
       "      <td>37.85</td>\n",
       "      <td>52.0</td>\n",
       "      <td>1627.0</td>\n",
       "      <td>280.0</td>\n",
       "      <td>565.0</td>\n",
       "      <td>259.0</td>\n",
       "      <td>3.8462</td>\n",
       "      <td>342200.0</td>\n",
       "      <td>NEAR BAY</td>\n",
       "    </tr>\n",
       "  </tbody>\n",
       "</table>\n",
       "</div>"
      ],
      "text/plain": [
       "   longitude  latitude  housing_median_age  total_rooms  total_bedrooms  \\\n",
       "0    -122.23     37.88                41.0        880.0           129.0   \n",
       "1    -122.22     37.86                21.0       7099.0          1106.0   \n",
       "2    -122.24     37.85                52.0       1467.0           190.0   \n",
       "3    -122.25     37.85                52.0       1274.0           235.0   \n",
       "4    -122.25     37.85                52.0       1627.0           280.0   \n",
       "\n",
       "   population  households  median_income  median_house_value ocean_proximity  \n",
       "0       322.0       126.0         8.3252            452600.0        NEAR BAY  \n",
       "1      2401.0      1138.0         8.3014            358500.0        NEAR BAY  \n",
       "2       496.0       177.0         7.2574            352100.0        NEAR BAY  \n",
       "3       558.0       219.0         5.6431            341300.0        NEAR BAY  \n",
       "4       565.0       259.0         3.8462            342200.0        NEAR BAY  "
      ]
     },
     "execution_count": 9,
     "metadata": {},
     "output_type": "execute_result"
    }
   ],
   "source": [
    "import pandas as pd\n",
    "df=pd.read_csv('housing.csv')\n",
    "df.head()"
   ]
  },
  {
   "cell_type": "code",
   "execution_count": 5,
   "id": "44da0b4e",
   "metadata": {},
   "outputs": [],
   "source": [
    "filtered_df = df.loc[df['ocean_proximity'].isin(['<1H OCEAN', 'INLAND'])]\n"
   ]
  },
  {
   "cell_type": "code",
   "execution_count": 6,
   "id": "316f583b",
   "metadata": {},
   "outputs": [],
   "source": [
    "filtered_df = filtered_df.fillna(0)\n"
   ]
  },
  {
   "cell_type": "code",
   "execution_count": 7,
   "id": "cf9e26c6",
   "metadata": {},
   "outputs": [],
   "source": [
    "import numpy as np\n",
    "\n",
    "filtered_df['median_house_value'] = np.log1p(filtered_df['median_house_value'])\n"
   ]
  },
  {
   "cell_type": "code",
   "execution_count": 8,
   "id": "06332fbe",
   "metadata": {},
   "outputs": [
    {
     "data": {
      "text/html": [
       "<div>\n",
       "<style scoped>\n",
       "    .dataframe tbody tr th:only-of-type {\n",
       "        vertical-align: middle;\n",
       "    }\n",
       "\n",
       "    .dataframe tbody tr th {\n",
       "        vertical-align: top;\n",
       "    }\n",
       "\n",
       "    .dataframe thead th {\n",
       "        text-align: right;\n",
       "    }\n",
       "</style>\n",
       "<table border=\"1\" class=\"dataframe\">\n",
       "  <thead>\n",
       "    <tr style=\"text-align: right;\">\n",
       "      <th></th>\n",
       "      <th>longitude</th>\n",
       "      <th>latitude</th>\n",
       "      <th>housing_median_age</th>\n",
       "      <th>total_rooms</th>\n",
       "      <th>total_bedrooms</th>\n",
       "      <th>population</th>\n",
       "      <th>households</th>\n",
       "      <th>median_income</th>\n",
       "      <th>median_house_value</th>\n",
       "      <th>ocean_proximity</th>\n",
       "    </tr>\n",
       "  </thead>\n",
       "  <tbody>\n",
       "    <tr>\n",
       "      <th>701</th>\n",
       "      <td>-121.97</td>\n",
       "      <td>37.64</td>\n",
       "      <td>32.0</td>\n",
       "      <td>1283.0</td>\n",
       "      <td>194.0</td>\n",
       "      <td>485.0</td>\n",
       "      <td>171.0</td>\n",
       "      <td>6.0574</td>\n",
       "      <td>12.973866</td>\n",
       "      <td>&lt;1H OCEAN</td>\n",
       "    </tr>\n",
       "    <tr>\n",
       "      <th>830</th>\n",
       "      <td>-121.99</td>\n",
       "      <td>37.61</td>\n",
       "      <td>9.0</td>\n",
       "      <td>3666.0</td>\n",
       "      <td>711.0</td>\n",
       "      <td>2341.0</td>\n",
       "      <td>703.0</td>\n",
       "      <td>4.6458</td>\n",
       "      <td>12.287657</td>\n",
       "      <td>&lt;1H OCEAN</td>\n",
       "    </tr>\n",
       "    <tr>\n",
       "      <th>859</th>\n",
       "      <td>-121.97</td>\n",
       "      <td>37.57</td>\n",
       "      <td>21.0</td>\n",
       "      <td>4342.0</td>\n",
       "      <td>783.0</td>\n",
       "      <td>2172.0</td>\n",
       "      <td>789.0</td>\n",
       "      <td>4.6146</td>\n",
       "      <td>12.419574</td>\n",
       "      <td>&lt;1H OCEAN</td>\n",
       "    </tr>\n",
       "    <tr>\n",
       "      <th>860</th>\n",
       "      <td>-121.96</td>\n",
       "      <td>37.58</td>\n",
       "      <td>15.0</td>\n",
       "      <td>3575.0</td>\n",
       "      <td>597.0</td>\n",
       "      <td>1777.0</td>\n",
       "      <td>559.0</td>\n",
       "      <td>5.7192</td>\n",
       "      <td>12.554971</td>\n",
       "      <td>&lt;1H OCEAN</td>\n",
       "    </tr>\n",
       "    <tr>\n",
       "      <th>861</th>\n",
       "      <td>-121.98</td>\n",
       "      <td>37.58</td>\n",
       "      <td>20.0</td>\n",
       "      <td>4126.0</td>\n",
       "      <td>1031.0</td>\n",
       "      <td>2079.0</td>\n",
       "      <td>975.0</td>\n",
       "      <td>3.6832</td>\n",
       "      <td>12.287196</td>\n",
       "      <td>&lt;1H OCEAN</td>\n",
       "    </tr>\n",
       "  </tbody>\n",
       "</table>\n",
       "</div>"
      ],
      "text/plain": [
       "     longitude  latitude  housing_median_age  total_rooms  total_bedrooms  \\\n",
       "701    -121.97     37.64                32.0       1283.0           194.0   \n",
       "830    -121.99     37.61                 9.0       3666.0           711.0   \n",
       "859    -121.97     37.57                21.0       4342.0           783.0   \n",
       "860    -121.96     37.58                15.0       3575.0           597.0   \n",
       "861    -121.98     37.58                20.0       4126.0          1031.0   \n",
       "\n",
       "     population  households  median_income  median_house_value ocean_proximity  \n",
       "701       485.0       171.0         6.0574           12.973866       <1H OCEAN  \n",
       "830      2341.0       703.0         4.6458           12.287657       <1H OCEAN  \n",
       "859      2172.0       789.0         4.6146           12.419574       <1H OCEAN  \n",
       "860      1777.0       559.0         5.7192           12.554971       <1H OCEAN  \n",
       "861      2079.0       975.0         3.6832           12.287196       <1H OCEAN  "
      ]
     },
     "execution_count": 8,
     "metadata": {},
     "output_type": "execute_result"
    }
   ],
   "source": [
    "filtered_df.head()"
   ]
  },
  {
   "cell_type": "code",
   "execution_count": 10,
   "id": "180e2169",
   "metadata": {},
   "outputs": [],
   "source": [
    "from sklearn.model_selection import train_test_split\n",
    "\n",
    "X = filtered_df.drop(columns=['median_house_value'])\n",
    "y = filtered_df['median_house_value']\n",
    "\n",
    "X_train, X_temp, y_train, y_temp = train_test_split(X, y, test_size=0.4, random_state=1)\n",
    "X_val, X_test, y_val, y_test = train_test_split(X_temp, y_temp, test_size=0.5, random_state=1)\n"
   ]
  },
  {
   "cell_type": "code",
   "execution_count": 11,
   "id": "a1eaf3ab",
   "metadata": {},
   "outputs": [],
   "source": [
    "from sklearn.feature_extraction import DictVectorizer\n",
    "\n",
    "vectorizer = DictVectorizer(sparse=False)\n",
    "\n",
    "X_train_encoded = vectorizer.fit_transform(X_train.to_dict(orient='records'))\n",
    "X_val_encoded = vectorizer.transform(X_val.to_dict(orient='records'))\n",
    "X_test_encoded = vectorizer.transform(X_test.to_dict(orient='records'))"
   ]
  },
  {
   "cell_type": "markdown",
   "id": "c294e75d",
   "metadata": {},
   "source": [
    "## Question 1\n",
    "\n",
    "Let's train a decision tree regressor to predict the `median_house_value` variable. \n",
    "\n",
    "* Train a model with `max_depth=1`.\n",
    "\n",
    "\n",
    "Which feature is used for splitting the data?\n",
    "\n",
    "* `ocean_proximity`\n",
    "* `total_rooms`\n",
    "* `latitude`\n",
    "* `population`"
   ]
  },
  {
   "cell_type": "code",
   "execution_count": 21,
   "id": "ae81417d",
   "metadata": {},
   "outputs": [
    {
     "name": "stdout",
     "output_type": "stream",
     "text": [
      "|--- ocean_proximity=<1H OCEAN <= 0.50\n",
      "|   |--- value: [11.61]\n",
      "|--- ocean_proximity=<1H OCEAN >  0.50\n",
      "|   |--- value: [12.30]\n",
      "\n"
     ]
    }
   ],
   "source": [
    "from sklearn.tree import DecisionTreeRegressor\n",
    "from sklearn.tree import export_text\n",
    "\n",
    "# Create a Decision Tree Regressor with max_depth=1\n",
    "regressor = DecisionTreeRegressor(max_depth=1)\n",
    "regressor.fit(X_train_encoded, y_train)\n",
    "\n",
    "# Get the tree structure as text\n",
    "tree_text = export_text(regressor, feature_names=vectorizer.feature_names_)\n",
    "\n",
    "# Print the tree structure to see which feature is used for splitting\n",
    "print(tree_text)\n"
   ]
  },
  {
   "cell_type": "code",
   "execution_count": 17,
   "id": "021329fc",
   "metadata": {},
   "outputs": [
    {
     "data": {
      "image/png": "[encoded data removed]",
      "text/plain": [
       "<Figure size 640x480 with 1 Axes>"
      ]
     },
     "metadata": {},
     "output_type": "display_data"
    }
   ],
   "source": [
    "from sklearn.tree import DecisionTreeRegressor\n",
    "import matplotlib.pyplot as plt\n",
    "from sklearn.tree import plot_tree\n",
    "\n",
    "\n",
    "# Create a Decision Tree Regressor with max_depth=1\n",
    "regressor = DecisionTreeRegressor(max_depth=1)\n",
    "regressor.fit(X_train_encoded, y_train)\n",
    "\n",
    "# Visualize the tree structure\n",
    "\n",
    "plot = plot_tree(regressor, feature_names=vectorizer.get_feature_names_out(), filled=True,)\n",
    "\n",
    "# Display the plot\n",
    "plt.show()\n"
   ]
  },
  {
   "cell_type": "markdown",
   "id": "2d41b49b",
   "metadata": {},
   "source": [
    "## Question 2\n",
    "\n",
    "Train a random forest model with these parameters:\n",
    "\n",
    "* `n_estimators=10`\n",
    "* `random_state=1`\n",
    "* `n_jobs=-1` (optional - to make training faster)\n",
    "\n",
    "\n",
    "What's the RMSE of this model on validation?\n",
    "\n",
    "* 0.045\n",
    "* 0.245\n",
    "* 0.545\n",
    "* 0.845"
   ]
  },
  {
   "cell_type": "code",
   "execution_count": 25,
   "id": "353136a4",
   "metadata": {},
   "outputs": [
    {
     "name": "stdout",
     "output_type": "stream",
     "text": [
      "RMSE on validation: 0.236\n"
     ]
    }
   ],
   "source": [
    "from sklearn.ensemble import RandomForestRegressor\n",
    "from sklearn.metrics import mean_squared_error\n",
    "import numpy as np\n",
    "\n",
    "# Train a random forest model\n",
    "rf_model = RandomForestRegressor(n_estimators=10, random_state=1, n_jobs=-1)\n",
    "rf_model.fit(X_train_encoded, y_train)\n",
    "\n",
    "# Make predictions on the validation set\n",
    "y_val_pred = rf_model.predict(X_val_encoded)\n",
    "\n",
    "# Calculate the RMSE\n",
    "rmse = np.sqrt(mean_squared_error(y_val, y_val_pred))\n",
    "print(\"RMSE on validation:\", round(rmse, 3))\n"
   ]
  },
  {
   "cell_type": "markdown",
   "id": "6b221822",
   "metadata": {},
   "source": [
    "## Question 3\n",
    "\n",
    "Now let's experiment with the `n_estimators` parameter\n",
    "\n",
    "* Try different values of this parameter from 10 to 200 with step 10.\n",
    "* Set `random_state` to `1`.\n",
    "* Evaluate the model on the validation dataset.\n",
    "\n",
    "\n",
    "After which value of `n_estimators` does RMSE stop improving?\n",
    "Consider 3 decimal places for retrieving the answer.\n",
    "\n",
    "- 10\n",
    "- 25\n",
    "- 50\n",
    "- 160"
   ]
  },
  {
   "cell_type": "code",
   "execution_count": 29,
   "id": "dc70a34a",
   "metadata": {},
   "outputs": [
    {
     "name": "stdout",
     "output_type": "stream",
     "text": [
      "n_estimators: 10, RMSE: 0.236\n",
      "n_estimators: 20, RMSE: 0.227\n",
      "n_estimators: 30, RMSE: 0.224\n",
      "n_estimators: 40, RMSE: 0.223\n",
      "n_estimators: 50, RMSE: 0.222\n",
      "n_estimators: 60, RMSE: 0.222\n",
      "n_estimators: 70, RMSE: 0.221\n",
      "n_estimators: 80, RMSE: 0.221\n",
      "n_estimators: 90, RMSE: 0.221\n",
      "The best n_estimators: 80, Best RMSE: 0.221\n"
     ]
    }
   ],
   "source": [
    "import numpy as np\n",
    "from sklearn.ensemble import RandomForestRegressor\n",
    "from sklearn.metrics import mean_squared_error\n",
    "\n",
    "best_rmse = float('inf')  # Initialize best RMSE with positive infinity\n",
    "best_n_estimators = 0\n",
    "\n",
    "for n_estimators in range(10, 201, 10):\n",
    "    # Train a random forest model\n",
    "    rf_model = RandomForestRegressor(n_estimators=n_estimators, random_state=1, n_jobs=-1)\n",
    "    rf_model.fit(X_train_encoded, y_train)\n",
    "\n",
    "    # Make predictions on the validation set\n",
    "    y_val_pred = rf_model.predict(X_val_encoded)\n",
    "\n",
    "    # Calculate RMSE\n",
    "    rmse = np.sqrt(mean_squared_error(y_val, y_val_pred))\n",
    "    print(f\"n_estimators: {n_estimators}, RMSE: {rmse:.3f}\")\n",
    "\n",
    "    # Check if RMSE improved\n",
    "    if rmse < best_rmse:\n",
    "        best_rmse = rmse\n",
    "        best_n_estimators = n_estimators\n",
    "    else:\n",
    "        # Stop if RMSE has stopped improving\n",
    "        break\n",
    "\n",
    "print(f\"The best n_estimators: {best_n_estimators}, Best RMSE: {best_rmse:.3f}\")\n"
   ]
  },
  {
   "cell_type": "markdown",
   "id": "2310a739",
   "metadata": {},
   "source": [
    "\n",
    "## Question 4\n",
    "\n",
    "Let's select the best `max_depth`:\n",
    "\n",
    "* Try different values of `max_depth`: `[10, 15, 20, 25]`\n",
    "* For each of these values,\n",
    "  * try different values of `n_estimators` from 10 till 200 (with step 10)\n",
    "  * calculate the mean RMSE \n",
    "* Fix the random seed: `random_state=1`\n",
    "\n",
    "\n",
    "What's the best `max_depth`, using the mean RMSE?\n",
    "\n",
    "* 10\n",
    "* 15\n",
    "* 20\n",
    "* 25\n"
   ]
  },
  {
   "cell_type": "code",
   "execution_count": 30,
   "id": "671071a2",
   "metadata": {},
   "outputs": [
    {
     "name": "stdout",
     "output_type": "stream",
     "text": [
      "The best max_depth: 25\n",
      "The best n_estimators: 130\n",
      "The best RMSE: 0.220\n"
     ]
    }
   ],
   "source": [
    "import numpy as np\n",
    "from sklearn.ensemble import RandomForestRegressor\n",
    "from sklearn.metrics import mean_squared_error\n",
    "\n",
    "# Define the values to search for max_depth and n_estimators\n",
    "max_depth_values = [10, 15, 20, 25]\n",
    "n_estimators_values = list(range(10, 201, 10))\n",
    "\n",
    "best_max_depth = None\n",
    "best_n_estimators = None\n",
    "best_rmse = float('inf')\n",
    "\n",
    "for max_depth in max_depth_values:\n",
    "    for n_estimators in n_estimators_values:\n",
    "        # Initialize the Random Forest Regressor\n",
    "        rf_model = RandomForestRegressor(max_depth=max_depth, n_estimators=n_estimators, random_state=1)\n",
    "        \n",
    "        # Fit the model\n",
    "        rf_model.fit(X_train_encoded, y_train)\n",
    "        \n",
    "        # Make predictions on the validation set\n",
    "        y_val_pred = rf_model.predict(X_val_encoded)\n",
    "        \n",
    "        # Calculate RMSE\n",
    "        rmse = np.sqrt(mean_squared_error(y_val, y_val_pred))\n",
    "        \n",
    "        # Check if this combination results in a lower RMSE\n",
    "        if rmse < best_rmse:\n",
    "            best_rmse = rmse\n",
    "            best_max_depth = max_depth\n",
    "            best_n_estimators = n_estimators\n",
    "\n",
    "print(f\"The best max_depth: {best_max_depth}\")\n",
    "print(f\"The best n_estimators: {best_n_estimators}\")\n",
    "print(f\"The best RMSE: {best_rmse:.3f}\")\n"
   ]
  },
  {
   "cell_type": "markdown",
   "id": "5ea82b2e",
   "metadata": {},
   "source": [
    "# Question 5\n",
    "\n",
    "We can extract feature importance information from tree-based models. \n",
    "\n",
    "At each step of the decision tree learning algorithm, it finds the best split. \n",
    "When doing it, we can calculate \"gain\" - the reduction in impurity before and after the split. \n",
    "This gain is quite useful in understanding what are the important features for tree-based models.\n",
    "\n",
    "In Scikit-Learn, tree-based models contain this information in the\n",
    "[`feature_importances_`](https://scikit-learn.org/stable/modules/generated/sklearn.ensemble.RandomForestRegressor.html#sklearn.ensemble.RandomForestRegressor.feature_importances_)\n",
    "field. \n",
    "\n",
    "For this homework question, we'll find the most important feature:\n",
    "\n",
    "* Train the model with these parameters:\n",
    "  * `n_estimators=10`,\n",
    "  * `max_depth=20`,\n",
    "  * `random_state=1`,\n",
    "  * `n_jobs=-1` (optional)\n",
    "* Get the feature importance information from this model\n",
    "\n",
    "\n",
    "What's the most important feature (among these 4)? \n",
    "\n",
    "* `total_rooms`\n",
    "* `median_income`\n",
    "* `total_bedrooms`\n",
    "* `longitude`\n",
    "`"
   ]
  },
  {
   "cell_type": "code",
   "execution_count": 31,
   "id": "a6587206",
   "metadata": {},
   "outputs": [
    {
     "name": "stdout",
     "output_type": "stream",
     "text": [
      "The most important feature is: median_income\n"
     ]
    }
   ],
   "source": [
    "from sklearn.ensemble import RandomForestRegressor\n",
    "\n",
    "# Initialize the Random Forest Regressor with the specified parameters\n",
    "rf_model = RandomForestRegressor(n_estimators=10, max_depth=20, random_state=1, n_jobs=-1)\n",
    "\n",
    "# Fit the model to the training data\n",
    "rf_model.fit(X_train_encoded, y_train)\n",
    "\n",
    "# Get feature importances\n",
    "feature_importances = rf_model.feature_importances_\n",
    "\n",
    "# Create a dictionary that maps feature names to their importance scores\n",
    "feature_importance_dict = dict(zip(vectorizer.feature_names_, feature_importances))\n",
    "\n",
    "# Find the most important feature\n",
    "most_important_feature = max(feature_importance_dict, key=feature_importance_dict.get)\n",
    "\n",
    "print(f\"The most important feature is: {most_important_feature}\")\n"
   ]
  },
  {
   "cell_type": "markdown",
   "id": "7461b3a8",
   "metadata": {},
   "source": [
    "\n",
    "## Question 6\n",
    "\n",
    "Now let's train an XGBoost model! For this question, we'll tune the `eta` parameter:\n",
    "\n",
    "* Install XGBoost\n",
    "* Create DMatrix for train and validation\n",
    "* Create a watchlist\n",
    "* Train a model with these parameters for 100 rounds:\n",
    "\n",
    "```\n",
    "xgb_params = {\n",
    "    'eta': 0.3, \n",
    "    'max_depth': 6,\n",
    "    'min_child_weight': 1,\n",
    "    \n",
    "    'objective': 'reg:squarederror',\n",
    "    'nthread': 8,\n",
    "    \n",
    "    'seed': 1,\n",
    "    'verbosity': 1,\n",
    "}\n",
    "```\n",
    "\n",
    "Now change `eta` from `0.3` to `0.1`.\n",
    "\n",
    "Which eta leads to the best RMSE score on the validation dataset?\n",
    "\n",
    "* 0.3\n",
    "* 0.1\n",
    "* Both give equal value\n"
   ]
  },
  {
   "cell_type": "code",
   "execution_count": 32,
   "id": "da8889dd",
   "metadata": {},
   "outputs": [
    {
     "name": "stdout",
     "output_type": "stream",
     "text": [
      "RMSE for eta=0.3: 0.2149611294017456\n",
      "RMSE for eta=0.1: 0.21821810787679172\n",
      "The best eta is: 0.3\n"
     ]
    }
   ],
   "source": [
    "import xgboost as xgb\n",
    "from sklearn.metrics import mean_squared_error\n",
    "\n",
    "# Convert the dataset into DMatrix\n",
    "dtrain = xgb.DMatrix(X_train_encoded, label=y_train)\n",
    "dval = xgb.DMatrix(X_val_encoded, label=y_val)\n",
    "\n",
    "# Create a watchlist for evaluation\n",
    "watchlist = [(dtrain, 'train'), (dval, 'val')]\n",
    "\n",
    "# Define the parameters for XGBoost\n",
    "xgb_params = {\n",
    "    'eta': 0.3,\n",
    "    'max_depth': 6,\n",
    "    'min_child_weight': 1,\n",
    "    'objective': 'reg:squarederror',\n",
    "    'nthread': 8,\n",
    "    'seed': 1,\n",
    "    'verbosity': 1,\n",
    "}\n",
    "\n",
    "# Train the model with eta=0.3\n",
    "model_eta_0_3 = xgb.train(xgb_params, dtrain, num_boost_round=100, evals=watchlist, early_stopping_rounds=10, verbose_eval=False)\n",
    "\n",
    "# Get predictions on the validation set\n",
    "y_pred_0_3 = model_eta_0_3.predict(dval)\n",
    "\n",
    "# Calculate RMSE for eta=0.3\n",
    "rmse_0_3 = mean_squared_error(y_val, y_pred_0_3, squared=False)\n",
    "\n",
    "# Update eta in xgb_params to 0.1\n",
    "xgb_params['eta'] = 0.1\n",
    "\n",
    "# Train the model with eta=0.1\n",
    "model_eta_0_1 = xgb.train(xgb_params, dtrain, num_boost_round=100, evals=watchlist, early_stopping_rounds=10, verbose_eval=False)\n",
    "\n",
    "# Get predictions on the validation set\n",
    "y_pred_0_1 = model_eta_0_1.predict(dval)\n",
    "\n",
    "# Calculate RMSE for eta=0.1\n",
    "rmse_0_1 = mean_squared_error(y_val, y_pred_0_1, squared=False)\n",
    "\n",
    "print(f\"RMSE for eta=0.3: {rmse_0_3}\")\n",
    "print(f\"RMSE for eta=0.1: {rmse_0_1}\")\n",
    "\n",
    "# Determine which eta leads to the best RMSE score\n",
    "best_eta = 0.1 if rmse_0_1 < rmse_0_3 else 0.3\n",
    "\n",
    "print(f\"The best eta is: {best_eta}\")\n"
   ]
  }
 ],
 "metadata": {
  "kernelspec": {
   "display_name": "learn-env",
   "language": "python",
   "name": "learn-env"
  },
  "language_info": {
   "codemirror_mode": {
    "name": "ipython",
    "version": 3
   },
   "file_extension": ".py",
   "mimetype": "text/x-python",
   "name": "python",
   "nbconvert_exporter": "python",
   "pygments_lexer": "ipython3",
   "version": "3.8.5"
  }
 },
 "nbformat": 4,
 "nbformat_minor": 5
}

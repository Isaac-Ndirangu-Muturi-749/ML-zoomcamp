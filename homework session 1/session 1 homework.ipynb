{
 "cells": [
  {
   "cell_type": "markdown",
   "id": "f5c666ae",
   "metadata": {},
   "source": [
    "# ml zoomcamp\n",
    "## session 1 homework"
   ]
  },
  {
   "cell_type": "code",
   "execution_count": 1,
   "id": "2c1ebffa",
   "metadata": {},
   "outputs": [],
   "source": [
    "# file path\n",
    "file_path = 'raw.githubusercontent.com_alexeygrigorev_datasets_master_housing.csv'"
   ]
  },
  {
   "cell_type": "code",
   "execution_count": 2,
   "id": "236fc567",
   "metadata": {},
   "outputs": [
    {
     "data": {
      "text/html": [
       "<div>\n",
       "<style scoped>\n",
       "    .dataframe tbody tr th:only-of-type {\n",
       "        vertical-align: middle;\n",
       "    }\n",
       "\n",
       "    .dataframe tbody tr th {\n",
       "        vertical-align: top;\n",
       "    }\n",
       "\n",
       "    .dataframe thead th {\n",
       "        text-align: right;\n",
       "    }\n",
       "</style>\n",
       "<table border=\"1\" class=\"dataframe\">\n",
       "  <thead>\n",
       "    <tr style=\"text-align: right;\">\n",
       "      <th></th>\n",
       "      <th>longitude</th>\n",
       "      <th>latitude</th>\n",
       "      <th>housing_median_age</th>\n",
       "      <th>total_rooms</th>\n",
       "      <th>total_bedrooms</th>\n",
       "      <th>population</th>\n",
       "      <th>households</th>\n",
       "      <th>median_income</th>\n",
       "      <th>median_house_value</th>\n",
       "      <th>ocean_proximity</th>\n",
       "    </tr>\n",
       "  </thead>\n",
       "  <tbody>\n",
       "    <tr>\n",
       "      <th>0</th>\n",
       "      <td>-122.23</td>\n",
       "      <td>37.88</td>\n",
       "      <td>41.0</td>\n",
       "      <td>880.0</td>\n",
       "      <td>129.0</td>\n",
       "      <td>322.0</td>\n",
       "      <td>126.0</td>\n",
       "      <td>8.3252</td>\n",
       "      <td>452600.0</td>\n",
       "      <td>NEAR BAY</td>\n",
       "    </tr>\n",
       "    <tr>\n",
       "      <th>1</th>\n",
       "      <td>-122.22</td>\n",
       "      <td>37.86</td>\n",
       "      <td>21.0</td>\n",
       "      <td>7099.0</td>\n",
       "      <td>1106.0</td>\n",
       "      <td>2401.0</td>\n",
       "      <td>1138.0</td>\n",
       "      <td>8.3014</td>\n",
       "      <td>358500.0</td>\n",
       "      <td>NEAR BAY</td>\n",
       "    </tr>\n",
       "    <tr>\n",
       "      <th>2</th>\n",
       "      <td>-122.24</td>\n",
       "      <td>37.85</td>\n",
       "      <td>52.0</td>\n",
       "      <td>1467.0</td>\n",
       "      <td>190.0</td>\n",
       "      <td>496.0</td>\n",
       "      <td>177.0</td>\n",
       "      <td>7.2574</td>\n",
       "      <td>352100.0</td>\n",
       "      <td>NEAR BAY</td>\n",
       "    </tr>\n",
       "    <tr>\n",
       "      <th>3</th>\n",
       "      <td>-122.25</td>\n",
       "      <td>37.85</td>\n",
       "      <td>52.0</td>\n",
       "      <td>1274.0</td>\n",
       "      <td>235.0</td>\n",
       "      <td>558.0</td>\n",
       "      <td>219.0</td>\n",
       "      <td>5.6431</td>\n",
       "      <td>341300.0</td>\n",
       "      <td>NEAR BAY</td>\n",
       "    </tr>\n",
       "    <tr>\n",
       "      <th>4</th>\n",
       "      <td>-122.25</td>\n",
       "      <td>37.85</td>\n",
       "      <td>52.0</td>\n",
       "      <td>1627.0</td>\n",
       "      <td>280.0</td>\n",
       "      <td>565.0</td>\n",
       "      <td>259.0</td>\n",
       "      <td>3.8462</td>\n",
       "      <td>342200.0</td>\n",
       "      <td>NEAR BAY</td>\n",
       "    </tr>\n",
       "  </tbody>\n",
       "</table>\n",
       "</div>"
      ],
      "text/plain": [
       "   longitude  latitude  housing_median_age  total_rooms  total_bedrooms  \\\n",
       "0    -122.23     37.88                41.0        880.0           129.0   \n",
       "1    -122.22     37.86                21.0       7099.0          1106.0   \n",
       "2    -122.24     37.85                52.0       1467.0           190.0   \n",
       "3    -122.25     37.85                52.0       1274.0           235.0   \n",
       "4    -122.25     37.85                52.0       1627.0           280.0   \n",
       "\n",
       "   population  households  median_income  median_house_value ocean_proximity  \n",
       "0       322.0       126.0         8.3252            452600.0        NEAR BAY  \n",
       "1      2401.0      1138.0         8.3014            358500.0        NEAR BAY  \n",
       "2       496.0       177.0         7.2574            352100.0        NEAR BAY  \n",
       "3       558.0       219.0         5.6431            341300.0        NEAR BAY  \n",
       "4       565.0       259.0         3.8462            342200.0        NEAR BAY  "
      ]
     },
     "execution_count": 2,
     "metadata": {},
     "output_type": "execute_result"
    }
   ],
   "source": [
    "import pandas as pd\n",
    "\n",
    "# load using pandas\n",
    "df = pd.read_csv(file_path)\n",
    "# preview top rows\n",
    "df.head()"
   ]
  },
  {
   "cell_type": "code",
   "execution_count": 3,
   "id": "a5cf41fc",
   "metadata": {},
   "outputs": [
    {
     "data": {
      "text/plain": [
       "Index(['longitude', 'latitude', 'housing_median_age', 'total_rooms',\n",
       "       'total_bedrooms', 'population', 'households', 'median_income',\n",
       "       'median_house_value', 'ocean_proximity'],\n",
       "      dtype='object')"
      ]
     },
     "execution_count": 3,
     "metadata": {},
     "output_type": "execute_result"
    }
   ],
   "source": [
    "# what are the columns\n",
    "df.columns"
   ]
  },
  {
   "cell_type": "code",
   "execution_count": 4,
   "id": "c434f88a",
   "metadata": {},
   "outputs": [
    {
     "name": "stdout",
     "output_type": "stream",
     "text": [
      "1.1.3\n"
     ]
    }
   ],
   "source": [
    "# Question 1: Version of Pandas\n",
    "\n",
    "print(pd.__version__)\n"
   ]
  },
  {
   "cell_type": "code",
   "execution_count": 5,
   "id": "d98d48c0",
   "metadata": {},
   "outputs": [
    {
     "name": "stdout",
     "output_type": "stream",
     "text": [
      "10\n"
     ]
    }
   ],
   "source": [
    "# Question 2: Number of columns in the dataset\n",
    "num_columns = len(df.columns)\n",
    "print(num_columns)\n"
   ]
  },
  {
   "cell_type": "code",
   "execution_count": 6,
   "id": "37640bd3",
   "metadata": {},
   "outputs": [
    {
     "name": "stdout",
     "output_type": "stream",
     "text": [
      "Index(['total_bedrooms'], dtype='object')\n"
     ]
    }
   ],
   "source": [
    "# Question 3: Select columns with missing data\n",
    "missing_columns = df.columns[df.isnull().any()]\n",
    "print(missing_columns)\n"
   ]
  },
  {
   "cell_type": "code",
   "execution_count": 7,
   "id": "f76f1e5a",
   "metadata": {},
   "outputs": [
    {
     "name": "stdout",
     "output_type": "stream",
     "text": [
      "5\n"
     ]
    }
   ],
   "source": [
    "# Question 4: Number of unique values in the 'ocean_proximity' column\n",
    "unique_values = df['ocean_proximity'].nunique()\n",
    "print(unique_values)\n"
   ]
  },
  {
   "cell_type": "code",
   "execution_count": 8,
   "id": "26964abc",
   "metadata": {},
   "outputs": [
    {
     "name": "stdout",
     "output_type": "stream",
     "text": [
      "259212.31179039303\n"
     ]
    }
   ],
   "source": [
    "# Question 5: Average value of the 'median_house_value' for the houses near the bay\n",
    "average_near_bay = df[df['ocean_proximity'] == 'NEAR BAY']['median_house_value'].mean()\n",
    "print(average_near_bay)\n"
   ]
  },
  {
   "cell_type": "code",
   "execution_count": 9,
   "id": "8e073d8f",
   "metadata": {},
   "outputs": [
    {
     "name": "stdout",
     "output_type": "stream",
     "text": [
      "True\n"
     ]
    }
   ],
   "source": [
    "# Question 6: Has the mean value changed after filling missing values?\n",
    "\n",
    "# average of total_bedrooms column\n",
    "mean_total_bedrooms = df['total_bedrooms'].mean()\n",
    "#fill missing values with the mean\n",
    "df['total_bedrooms'].fillna(mean_total_bedrooms, inplace=True)\n",
    "# average of total_bedrooms again\n",
    "new_mean_total_bedrooms = df['total_bedrooms'].mean()\n",
    "# Check if it has changed\n",
    "has_changed = new_mean_total_bedrooms != mean_total_bedrooms\n",
    "print(has_changed)\n"
   ]
  },
  {
   "cell_type": "markdown",
   "id": "85ad3554",
   "metadata": {},
   "source": [
    "Question 7    \n",
    "- Select all the options located on islands.  \n",
    "- Select only columns housing_median_age, total_rooms, total_bedrooms.  \n",
    "- Get the underlying NumPy array. Let's call it X.  \n",
    "- Compute matrix-matrix multiplication between the transpose of X and X. To get the transpose, use X.T.   \n",
    "- Let's call the result XTX.  \n",
    "- Compute the inverse of XTX.  \n",
    "- Create an array y with values [950, 1300, 800, 1000, 1300].  \n",
    "- Multiply the inverse of XTX with the transpose of X, and then multiply the result by y. Call the result w.  \n",
    "- What's the value of the last element of w?  "
   ]
  },
  {
   "cell_type": "code",
   "execution_count": 12,
   "id": "efb97906",
   "metadata": {},
   "outputs": [
    {
     "name": "stdout",
     "output_type": "stream",
     "text": [
      "5.699229455065586\n"
     ]
    }
   ],
   "source": [
    "# Questions 7: Value of the last element of w\n",
    "\n",
    "# options located on islands\n",
    "island_data = df[df['ocean_proximity'].str.contains('ISLAND')]\n",
    "# Select columns\n",
    "selected_columns = ['housing_median_age', 'total_rooms', 'total_bedrooms']\n",
    "selected_data = island_data[selected_columns]\n",
    "# underlying NumPy array (X)\n",
    "X = selected_data.values\n",
    "# matrix-matrix multiplication between transpose of X and X (XTX)\n",
    "import numpy as np\n",
    "XTX = np.dot(X.T, X)\n",
    "# inverse of XTX\n",
    "XTX_inv = np.linalg.inv(XTX)\n",
    "# Create array y\n",
    "y = [950, 1300, 800, 1000, 1300]\n",
    "# Multiply inverse of XTX with transpose of X and multiply by y to get w\n",
    "w = np.dot(np.dot(XTX_inv, X.T), y)\n",
    "# value of the last element of w\n",
    "print(w[-1])\n"
   ]
  },
  {
   "cell_type": "code",
   "execution_count": null,
   "id": "f75639d4",
   "metadata": {},
   "outputs": [],
   "source": []
  },
  {
   "cell_type": "code",
   "execution_count": null,
   "id": "f0c2bda8",
   "metadata": {},
   "outputs": [],
   "source": []
  },
  {
   "cell_type": "code",
   "execution_count": null,
   "id": "a71a6e1a",
   "metadata": {},
   "outputs": [],
   "source": []
  }
 ],
 "metadata": {
  "kernelspec": {
   "display_name": "learn-env",
   "language": "python",
   "name": "learn-env"
  },
  "language_info": {
   "codemirror_mode": {
    "name": "ipython",
    "version": 3
   },
   "file_extension": ".py",
   "mimetype": "text/x-python",
   "name": "python",
   "nbconvert_exporter": "python",
   "pygments_lexer": "ipython3",
   "version": "3.8.5"
  }
 },
 "nbformat": 4,
 "nbformat_minor": 5
}

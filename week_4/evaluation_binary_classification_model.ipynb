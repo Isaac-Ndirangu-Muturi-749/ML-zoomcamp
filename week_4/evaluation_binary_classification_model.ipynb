{
 "cells": [
  {
   "cell_type": "markdown",
   "metadata": {},
   "source": [
    "# ml zoomcamp\n",
    "## week 4 homework\n",
    "## Topic: Evaluation Metrics for Classification\n",
    "### name: Isaac Muturi\n",
    "### email: ndirangumuturi749@gmail.com"
   ]
  },
  {
   "cell_type": "markdown",
   "metadata": {},
   "source": [
    "\n",
    "In this homework, we will use the Car price dataset like last week. Download it from [here](https://raw.githubusercontent.com/alexeygrigorev/mlbookcamp-code/master/chapter-02-car-price/data.csv).\n",
    "\n",
    "Or you can do it with `wget`:\n",
    "\n",
    "```bash\n",
    "wget https://raw.githubusercontent.com/alexeygrigorev/mlbookcamp-code/master/chapter-02-car-price/data.csv\n",
    "```"
   ]
  },
  {
   "cell_type": "code",
   "execution_count": 2,
   "metadata": {},
   "outputs": [
    {
     "data": {
      "text/plain": [
       "\"import wget\\n\\nurl = 'https://raw.githubusercontent.com/alexeygrigorev/mlbookcamp-code/master/chapter-02-car-price/data.csv'\\n\\nfilename = 'car.csv'\\n\\nwget.download(url, filename)\""
      ]
     },
     "execution_count": 2,
     "metadata": {},
     "output_type": "execute_result"
    }
   ],
   "source": [
    "'''import wget\n",
    "\n",
    "url = 'https://raw.githubusercontent.com/alexeygrigorev/mlbookcamp-code/master/chapter-02-car-price/data.csv'\n",
    "\n",
    "filename = 'car.csv'\n",
    "\n",
    "wget.download(url, filename)'''"
   ]
  },
  {
   "cell_type": "markdown",
   "metadata": {},
   "source": [
    "We'll work with the `MSRP` variable, and we'll transform it to a classification task. \n",
    "\n",
    "For the rest of the homework, you'll need to use only these columns:\n",
    "\n",
    "* `Make`,\n",
    "* `Model`,\n",
    "* `Year`,\n",
    "* `Engine HP`,\n",
    "* `Engine Cylinders`,\n",
    "* `Transmission Type`,\n",
    "* `Vehicle Style`,\n",
    "* `highway MPG`,\n",
    "* `city mpg`\n",
    "* `MSRP`"
   ]
  },
  {
   "cell_type": "code",
   "execution_count": 3,
   "metadata": {},
   "outputs": [],
   "source": [
    "import pandas as pd\n",
    "\n",
    "# Load the dataset\n",
    "data = pd.read_csv('car.csv')\n",
    "\n",
    "# Select the columns of interest\n",
    "selected_columns = [\n",
    "    'Make', 'Model', 'Year', 'Engine HP', 'Engine Cylinders',\n",
    "    'Transmission Type', 'Vehicle Style', 'highway MPG', 'city mpg', 'MSRP'\n",
    "]\n",
    "\n",
    "df = data[selected_columns]\n"
   ]
  },
  {
   "cell_type": "markdown",
   "metadata": {},
   "source": [
    "### Data preparation\n",
    "\n",
    "* Keep only the columns above\n",
    "* Lowercase the column names and replace spaces with underscores\n",
    "* Fill the missing values with 0 \n",
    "* Make the price binary (1 if above the average, 0 otherwise) - this will be our target variable `above_average`\n",
    "\n",
    "Split the data into 3 parts: train/validation/test with 60%/20%/20% distribution. Use `train_test_split` function for that with `random_state=1`"
   ]
  },
  {
   "cell_type": "code",
   "execution_count": 4,
   "metadata": {},
   "outputs": [],
   "source": [
    "# Lowercase the column names and replace spaces with underscores\n",
    "df.columns = df.columns.str.lower().str.replace(' ', '_')\n",
    "\n",
    "# Fill the missing values with 0\n",
    "df = df.fillna(0)\n",
    "\n",
    "# Make the price binary (1 if above the average, 0 otherwise)\n",
    "df['above_average'] = (df['msrp'] > df['msrp'].mean()).astype(int)\n",
    "\n",
    "# Split the data into train/validation/test with a 60%/20%/20% distribution\n",
    "X = df.drop(columns=['msrp', 'above_average'])\n",
    "y = df['above_average']\n",
    "\n",
    "from sklearn.model_selection import train_test_split\n",
    "\n",
    "X_train, X_temp, y_train, y_temp = train_test_split(X, y, test_size=0.4, random_state=1)\n",
    "X_val, X_test, y_val, y_test = train_test_split(X_temp, y_temp, test_size=0.5, random_state=1)\n"
   ]
  },
  {
   "cell_type": "markdown",
   "metadata": {},
   "source": [
    "### Question 1: ROC AUC feature importance\n",
    "\n",
    "ROC AUC could also be used to evaluate feature importance of numerical variables. \n",
    "\n",
    "Let's do that\n",
    "\n",
    "* For each numerical variable, use it as score and compute AUC with the `above_average` variable\n",
    "* Use the training dataset for that\n",
    "\n",
    "\n",
    "If your AUC is < 0.5, invert this variable by putting \"-\" in front\n",
    "\n",
    "(e.g. `-df_train['engine_hp']`)\n",
    "\n",
    "AUC can go below 0.5 if the variable is negatively correlated with the target varialble. You can change the direction of the correlation by negating this variable - then negative correlation becomes positive.\n",
    "\n",
    "Which numerical variable (among the following 4) has the highest AUC?\n",
    "\n",
    "- `engine_hp`\n",
    "- `engine_cylinders`\n",
    "- `highway_mpg`\n",
    "- `city_mpg`"
   ]
  },
  {
   "cell_type": "code",
   "execution_count": 5,
   "metadata": {},
   "outputs": [
    {
     "name": "stdout",
     "output_type": "stream",
     "text": [
      "Numerical variable with the highest AUC: engine_hp\n"
     ]
    }
   ],
   "source": [
    "from sklearn.metrics import roc_auc_score\n",
    "\n",
    "# Calculate ROC AUC for each numerical variable\n",
    "numerical_vars = X.select_dtypes(include=['number']).columns.tolist()\n",
    "auc_scores = {}\n",
    "\n",
    "for var in numerical_vars:\n",
    "    auc = roc_auc_score(y_train, X_train[var])\n",
    "    # If AUC is < 0.5, invert the variable\n",
    "    if auc < 0.5:\n",
    "        auc = roc_auc_score(y_train, -X_train[var])\n",
    "    auc_scores[var] = auc\n",
    "\n",
    "# Find the numerical variable with the highest AUC\n",
    "highest_auc_var = max(auc_scores, key=auc_scores.get)\n",
    "print(\"Numerical variable with the highest AUC:\", highest_auc_var)\n"
   ]
  },
  {
   "cell_type": "markdown",
   "metadata": {},
   "source": [
    "### Question 2: Training the model\n",
    "\n",
    "Apply one-hot-encoding using `DictVectorizer` and train the logistic regression with these parameters:\n",
    "\n",
    "```python\n",
    "LogisticRegression(solver='liblinear', C=1.0, max_iter=1000)\n",
    "```\n",
    "\n",
    "What's the AUC of this model on the validation dataset? (round to 3 digits)\n",
    "\n",
    "- 0.678\n",
    "- 0.779\n",
    "- 0.878\n",
    "- 0.979\n"
   ]
  },
  {
   "cell_type": "code",
   "execution_count": 6,
   "metadata": {},
   "outputs": [
    {
     "name": "stdout",
     "output_type": "stream",
     "text": [
      "AUC on the validation dataset: 0.979\n"
     ]
    }
   ],
   "source": [
    "from sklearn.feature_extraction import DictVectorizer\n",
    "from sklearn.linear_model import LogisticRegression\n",
    "from sklearn.metrics import roc_auc_score\n",
    "\n",
    "# Initialize DictVectorizer\n",
    "vectorizer = DictVectorizer(sparse=False)\n",
    "\n",
    "# Convert DataFrame to a list of dictionaries\n",
    "X_train_dict = X_train.to_dict(orient='records')\n",
    "X_val_dict = X_val.to_dict(orient='records')\n",
    "\n",
    "\n",
    "# Transform categorical features using DictVectorizer (for training set)\n",
    "X_train_encoded = vectorizer.fit_transform(X_train_dict)\n",
    "\n",
    "# Transform categorical features using DictVectorizer (for validation set)\n",
    "X_val_encoded = vectorizer.transform(X_val_dict)\n",
    "\n",
    "# Initialize and train the logistic regression model\n",
    "model = LogisticRegression(solver='liblinear', C=1.0, max_iter=1000, random_state=42)\n",
    "model.fit(X_train_encoded, y_train)\n",
    "\n",
    "# Predict probabilities on the validation set\n",
    "y_pred_proba = model.predict_proba(X_val_encoded)[:, 1]\n",
    "\n",
    "# Calculate the AUC on the validation set\n",
    "auc = roc_auc_score(y_val, y_pred_proba)\n",
    "\n",
    "# Round the AUC to 3 decimal digits\n",
    "rounded_auc = round(auc, 3)\n",
    "\n",
    "# Print the rounded AUC\n",
    "print(\"AUC on the validation dataset:\", rounded_auc)\n"
   ]
  },
  {
   "cell_type": "markdown",
   "metadata": {},
   "source": [
    "### Question 3: Precision and Recall\n",
    "\n",
    "Now let's compute precision and recall for our model.\n",
    "\n",
    "* Evaluate the model on all thresholds from 0.0 to 1.0 with step 0.01\n",
    "* For each threshold, compute precision and recall\n",
    "* Plot them\n",
    "\n",
    "At which threshold precision and recall curves intersect?\n",
    "\n",
    "* 0.28\n",
    "* 0.48\n",
    "* 0.68\n",
    "* 0.88\n"
   ]
  },
  {
   "cell_type": "code",
   "execution_count": 7,
   "metadata": {},
   "outputs": [
    {
     "data": {
      "image/png": "[encoded data removed]",
      "text/plain": [
       "<Figure size 640x480 with 1 Axes>"
      ]
     },
     "metadata": {},
     "output_type": "display_data"
    }
   ],
   "source": [
    "from sklearn.metrics import precision_recall_curve\n",
    "\n",
    "# Calculate precision and recall for different thresholds\n",
    "precision, recall, thresholds = precision_recall_curve(y_val, y_pred_proba)\n",
    "\n",
    "# Plot precision and recall curves\n",
    "import matplotlib.pyplot as plt\n",
    "\n",
    "plt.plot(thresholds, precision[:-1], label='Precision')\n",
    "plt.plot(thresholds, recall[:-1], label='Recall')\n",
    "plt.xlabel('Threshold')\n",
    "plt.legend()\n",
    "plt.grid(True)\n",
    "plt.show()\n"
   ]
  },
  {
   "cell_type": "code",
   "execution_count": 10,
   "metadata": {},
   "outputs": [
    {
     "name": "stderr",
     "output_type": "stream",
     "text": [
      "c:\\Users\\ndira\\anaconda3\\envs\\learn-env\\lib\\site-packages\\sklearn\\metrics\\_classification.py:1344: UndefinedMetricWarning: Precision is ill-defined and being set to 0.0 due to no predicted samples. Use `zero_division` parameter to control this behavior.\n",
      "  _warn_prf(average, modifier, msg_start, len(result))\n"
     ]
    },
    {
     "data": {
      "image/png": "[encoded data removed]",
      "text/plain": [
       "<Figure size 800x600 with 1 Axes>"
      ]
     },
     "metadata": {},
     "output_type": "display_data"
    }
   ],
   "source": [
    "import matplotlib.pyplot as plt\n",
    "import numpy as np\n",
    "from sklearn.metrics import precision_score, recall_score\n",
    "# Calculate precision and recall for each threshold\n",
    "thresholds = np.arange(0, 1.01, 0.01)\n",
    "precision_scores = []\n",
    "recall_scores = []\n",
    "\n",
    "for threshold in thresholds:\n",
    "    y_pred_binary = (y_pred_proba >= threshold).astype(int)\n",
    "    precision = precision_score(y_val, y_pred_binary)\n",
    "    recall = recall_score(y_val, y_pred_binary)\n",
    "    precision_scores.append(precision)\n",
    "    recall_scores.append(recall)\n",
    "\n",
    "# Plot precision and recall curves\n",
    "plt.figure(figsize=(8, 6))\n",
    "plt.plot(thresholds, precision_scores, label='Precision', color='blue')\n",
    "plt.plot(thresholds, recall_scores, label='Recall', color='red')\n",
    "plt.xlabel('Threshold')\n",
    "plt.ylabel('Score')\n",
    "plt.title('Precision and Recall Curves')\n",
    "plt.legend()\n",
    "plt.grid(True)\n",
    "plt.show()\n"
   ]
  },
  {
   "cell_type": "markdown",
   "metadata": {},
   "source": [
    "### Question 4: F1 score\n",
    "\n",
    "Precision and recall are conflicting - when one grows, the other goes down. That's why they are often combined into the F1 score - a metrics that takes into account both\n",
    "\n",
    "This is the formula for computing F1:\n",
    "\n",
    "$$F_1 = 2 \\cdot \\cfrac{P \\cdot R}{P + R}$$\n",
    "\n",
    "Where $P$ is precision and $R$ is recall.\n",
    "\n",
    "Let's compute F1 for all thresholds from 0.0 to 1.0 with increment 0.01\n",
    "\n",
    "At which threshold F1 is maximal?\n",
    "\n",
    "- 0.12\n",
    "- 0.32\n",
    "- 0.52\n",
    "- 0.72"
   ]
  },
  {
   "cell_type": "code",
   "execution_count": 11,
   "metadata": {},
   "outputs": [
    {
     "name": "stdout",
     "output_type": "stream",
     "text": [
      "Threshold with maximal F1: 0.5\n"
     ]
    }
   ],
   "source": [
    "from sklearn.metrics import f1_score\n",
    "\n",
    "# Calculate F1 score for each threshold\n",
    "f1_scores = []\n",
    "\n",
    "for threshold in thresholds:\n",
    "    y_pred_binary = (y_pred_proba >= threshold).astype(int)\n",
    "    f1 = f1_score(y_val, y_pred_binary)\n",
    "    f1_scores.append(f1)\n",
    "\n",
    "# Find the threshold at which F1 is maximal\n",
    "max_f1_threshold = thresholds[np.argmax(f1_scores)]\n",
    "print(\"Threshold with maximal F1:\", max_f1_threshold)\n"
   ]
  },
  {
   "cell_type": "code",
   "execution_count": 12,
   "metadata": {},
   "outputs": [
    {
     "name": "stdout",
     "output_type": "stream",
     "text": [
      "Threshold with maximal F1: 1.0\n"
     ]
    },
    {
     "name": "stderr",
     "output_type": "stream",
     "text": [
      "c:\\Users\\ndira\\anaconda3\\envs\\learn-env\\lib\\site-packages\\sklearn\\metrics\\_classification.py:1344: UndefinedMetricWarning: Precision is ill-defined and being set to 0.0 due to no predicted samples. Use `zero_division` parameter to control this behavior.\n",
      "  _warn_prf(average, modifier, msg_start, len(result))\n",
      "<ipython-input-12-6023bb702dc5>:10: RuntimeWarning: invalid value encountered in double_scalars\n",
      "  f1 = 2 * (precision * recall) / (precision + recall)\n"
     ]
    }
   ],
   "source": [
    "from sklearn.metrics import precision_score, recall_score\n",
    "\n",
    "# Calculate F1 score for each threshold\n",
    "f1_scores = []\n",
    "\n",
    "for threshold in thresholds:\n",
    "    y_pred_binary = (y_pred_proba >= threshold).astype(int)\n",
    "    precision = precision_score(y_val, y_pred_binary)\n",
    "    recall = recall_score(y_val, y_pred_binary)\n",
    "    f1 = 2 * (precision * recall) / (precision + recall)\n",
    "    f1_scores.append(f1)\n",
    "\n",
    "# Find the threshold at which F1 is maximal\n",
    "max_f1_threshold = thresholds[np.argmax(f1_scores)]\n",
    "print(\"Threshold with maximal F1:\", max_f1_threshold)\n"
   ]
  },
  {
   "cell_type": "markdown",
   "metadata": {},
   "source": [
    "### Question 5: 5-Fold CV\n",
    "\n",
    "\n",
    "Use the `KFold` class from Scikit-Learn to evaluate our model on 5 different folds:\n",
    "\n",
    "```\n",
    "KFold(n_splits=5, shuffle=True, random_state=1)\n",
    "```\n",
    "\n",
    "* Iterate over different folds of `df_full_train`\n",
    "* Split the data into train and validation\n",
    "* Train the model on train with these parameters: `LogisticRegression(solver='liblinear', C=1.0, max_iter=1000)`\n",
    "* Use AUC to evaluate the model on validation\n",
    "\n",
    "How large is standard devidation of the scores across different folds?\n",
    "\n",
    "- 0.003\n",
    "- 0.030\n",
    "- 0.090\n",
    "- 0.140\n"
   ]
  },
  {
   "cell_type": "code",
   "execution_count": 14,
   "metadata": {},
   "outputs": [
    {
     "name": "stdout",
     "output_type": "stream",
     "text": [
      "Standard deviation of AUC scores: 0.004\n"
     ]
    }
   ],
   "source": [
    "import pandas as pd\n",
    "import numpy as np\n",
    "from sklearn.model_selection import KFold\n",
    "from sklearn.metrics import roc_auc_score\n",
    "from sklearn.feature_extraction import DictVectorizer\n",
    "from sklearn.linear_model import LogisticRegression\n",
    "\n",
    "# Combine the training and validation sets to create df_full_train\n",
    "df_full_train = pd.concat([X_train, X_val])\n",
    "df_full_train['above_average'] = pd.concat([y_train, y_val])\n",
    "\n",
    "# Separate features and target variable for df_full_train\n",
    "X_full_train = df_full_train.drop(columns=['above_average'])\n",
    "y_full_train = df_full_train['above_average']\n",
    "\n",
    "# Initialize KFold with 5 splits and other parameters\n",
    "kf = KFold(n_splits=5, shuffle=True, random_state=1)\n",
    "\n",
    "# Initialize a list to store AUC scores\n",
    "auc_scores = []\n",
    "\n",
    "# Initialize DictVectorizer\n",
    "dv = DictVectorizer(sparse=False)\n",
    "\n",
    "# Iterate over different folds\n",
    "for train_idx, val_idx in kf.split(df_full_train):\n",
    "    # Split the data into train and validation sets\n",
    "    train_data, val_data = df_full_train.iloc[train_idx], df_full_train.iloc[val_idx]\n",
    "\n",
    "    # Separate features and target variable for train and validation sets\n",
    "    X_train_fold = train_data.drop(columns=['above_average'])\n",
    "    y_train_fold = train_data['above_average']\n",
    "    X_val_fold = val_data.drop(columns=['above_average'])\n",
    "    y_val_fold = val_data['above_average']\n",
    "\n",
    "    # Transform categorical features using DictVectorizer\n",
    "    X_train_encoded = dv.fit_transform(X_train_fold.to_dict(orient='records'))\n",
    "    X_val_encoded = dv.transform(X_val_fold.to_dict(orient='records'))\n",
    "\n",
    "    # Initialize and train the logistic regression model\n",
    "    model = LogisticRegression(solver='liblinear', C=1.0, max_iter=1000)\n",
    "    model.fit(X_train_encoded, y_train_fold)\n",
    "\n",
    "    # Predict probabilities on the validation set\n",
    "    y_pred_proba = model.predict_proba(X_val_encoded)[:, 1]\n",
    "\n",
    "    # Calculate AUC score for this fold\n",
    "    auc = roc_auc_score(y_val_fold, y_pred_proba)\n",
    "    auc_scores.append(auc)\n",
    "\n",
    "# Calculate the standard deviation of AUC scores\n",
    "std_dev = np.std(auc_scores)\n",
    "print(\"Standard deviation of AUC scores:\", round(std_dev, 3))\n"
   ]
  },
  {
   "cell_type": "markdown",
   "metadata": {},
   "source": [
    "### Question 6: Hyperparemeter Tuning\n",
    "\n",
    "Now let's use 5-Fold cross-validation to find the best parameter `C`\n",
    "\n",
    "* Iterate over the following `C` values: `[0.01, 0.1, 0.5, 10]`\n",
    "* Initialize `KFold` with the same parameters as previously\n",
    "* Use these parametes for the model: `LogisticRegression(solver='liblinear', C=C, max_iter=1000)`\n",
    "* Compute the mean score as well as the std (round the mean and std to 3 decimal digits)\n",
    "\n",
    "Which `C` leads to the best mean score?\n",
    "\n",
    "- 0.01\n",
    "- 0.1\n",
    "- 0.5\n",
    "- 10\n",
    "\n",
    "If you have ties, select the score with the lowest std. If you still have ties, select the smallest `C`.\n"
   ]
  },
  {
   "cell_type": "code",
   "execution_count": 15,
   "metadata": {},
   "outputs": [
    {
     "name": "stdout",
     "output_type": "stream",
     "text": [
      "Best C value: 0.01\n"
     ]
    }
   ],
   "source": [
    "# Define a list of C values to iterate over\n",
    "C_values = [0.01, 0.1, 0.5, 10]\n",
    "\n",
    "# Initialize KFold with 5 splits and other parameters\n",
    "kf = KFold(n_splits=5, shuffle=True, random_state=1)\n",
    "\n",
    "# Initialize dictionaries to store mean scores and std scores for each C\n",
    "mean_scores = {}\n",
    "std_scores = {}\n",
    "\n",
    "# Initialize DictVectorizer\n",
    "dv = DictVectorizer(sparse=False)\n",
    "\n",
    "# Iterate over different C values\n",
    "for C in C_values:\n",
    "    # Initialize a list to store AUC scores for this C value\n",
    "    auc_scores = []\n",
    "\n",
    "    # Iterate over different folds\n",
    "    for train_idx, val_idx in kf.split(df_full_train):\n",
    "        # Split the data into train and validation sets\n",
    "        train_data, val_data = df_full_train.iloc[train_idx], df_full_train.iloc[val_idx]\n",
    "\n",
    "        # Separate features and target variable for train and validation sets\n",
    "        X_train_fold = train_data.drop(columns=['above_average'])\n",
    "        y_train_fold = train_data['above_average']\n",
    "        X_val_fold = val_data.drop(columns=['above_average'])\n",
    "        y_val_fold = val_data['above_average']\n",
    "\n",
    "        # Transform categorical features using DictVectorizer\n",
    "        X_train_encoded = dv.fit_transform(X_train_fold.to_dict(orient='records'))\n",
    "        X_val_encoded = dv.transform(X_val_fold.to_dict(orient='records'))\n",
    "\n",
    "        # Initialize and train the logistic regression model\n",
    "        model = LogisticRegression(solver='liblinear', C=C, max_iter=1000)\n",
    "        model.fit(X_train_encoded, y_train_fold)\n",
    "\n",
    "        # Predict probabilities on the validation set\n",
    "        y_pred_proba = model.predict_proba(X_val_encoded)[:, 1]\n",
    "\n",
    "        # Calculate AUC score for this fold\n",
    "        auc = roc_auc_score(y_val_fold, y_pred_proba)\n",
    "        auc_scores.append(auc)\n",
    "\n",
    "    # Calculate the mean and standard deviation of AUC scores for this C value\n",
    "    mean_auc = np.mean(auc_scores)\n",
    "    std_auc = np.std(auc_scores)\n",
    "\n",
    "    # Store the mean and std scores for this C value in dictionaries\n",
    "    mean_scores[C] = round(mean_auc, 3)\n",
    "    std_scores[C] = round(std_auc, 3)\n",
    "\n",
    "# Find the best C value based on mean scores and std scores\n",
    "best_C = min(mean_scores, key=lambda x: (mean_scores[x], std_scores[x], x))\n",
    "print(\"Best C value:\", best_C)\n"
   ]
  },
  {
   "cell_type": "markdown",
   "metadata": {},
   "source": [
    "\n",
    "\n",
    "\n",
    "\n",
    "\n",
    "\n",
    "\n",
    "\n",
    "\n",
    "\n",
    "\n",
    "\n",
    "\n",
    "\n",
    "\n",
    "\n",
    "\n",
    "\n",
    "\n",
    "## Submit the results\n",
    "\n",
    "- Submit your results here: https://forms.gle/E7Fa3WuBw3HkPQYg6\n",
    "- If your answer doesn't match options exactly, select the closest one.\n",
    "- You can submit your solution multiple times. In this case, only the last submission will be used\n",
    "\n",
    "## Deadline\n",
    "\n",
    "The deadline for submitting is October 9 (Monday), 23:00 CET. After that the form will be closed.\n"
   ]
  }
 ],
 "metadata": {
  "kernelspec": {
   "display_name": "learn-env",
   "language": "python",
   "name": "python3"
  },
  "language_info": {
   "codemirror_mode": {
    "name": "ipython",
    "version": 3
   },
   "file_extension": ".py",
   "mimetype": "text/x-python",
   "name": "python",
   "nbconvert_exporter": "python",
   "pygments_lexer": "ipython3",
   "version": "3.8.5"
  },
  "orig_nbformat": 4
 },
 "nbformat": 4,
 "nbformat_minor": 2
}

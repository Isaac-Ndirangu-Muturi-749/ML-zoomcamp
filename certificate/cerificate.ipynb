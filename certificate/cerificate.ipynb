{
 "cells": [
  {
   "cell_type": "code",
   "execution_count": 1,
   "metadata": {},
   "outputs": [],
   "source": [
    "from hashlib import sha1\n",
    "\n",
    "def compute_hash(email):\n",
    "    return sha1(email.encode('utf-8')).hexdigest()\n",
    "\n",
    "def compute_certificate_id(email):\n",
    "    email_clean = email.lower().strip()\n",
    "    return compute_hash(email_clean + '_')"
   ]
  },
  {
   "cell_type": "code",
   "execution_count": 2,
   "metadata": {},
   "outputs": [
    {
     "name": "stdout",
     "output_type": "stream",
     "text": [
      "https://certificate.datatalks.club/ml-zoomcamp/2023/7fb6afbfb9a8a42c9c26bf1150a939e732315a6c.pdf\n"
     ]
    }
   ],
   "source": [
    "email = 'ndirangumuturi749@gmail.com'\n",
    "\n",
    "cohort = 2023\n",
    "course = 'ml-zoomcamp'\n",
    "my_id = compute_certificate_id(email)\n",
    "url = f\"https://certificate.datatalks.club/{course}/{cohort}/{my_id}.pdf\"\n",
    "print(url)"
   ]
  },
  {
   "cell_type": "code",
   "execution_count": 3,
   "metadata": {},
   "outputs": [
    {
     "data": {
      "text/plain": [
       "'7fb6afbfb9a8a42c9c26bf1150a939e732315a6c'"
      ]
     },
     "execution_count": 3,
     "metadata": {},
     "output_type": "execute_result"
    }
   ],
   "source": [
    "my(my_id)"
   ]
  }
 ],
 "metadata": {
  "kernelspec": {
   "display_name": "base",
   "language": "python",
   "name": "python3"
  },
  "language_info": {
   "codemirror_mode": {
    "name": "ipython",
    "version": 3
   },
   "file_extension": ".py",
   "mimetype": "text/x-python",
   "name": "python",
   "nbconvert_exporter": "python",
   "pygments_lexer": "ipython3",
   "version": "3.11.5"
  }
 },
 "nbformat": 4,
 "nbformat_minor": 2
}
